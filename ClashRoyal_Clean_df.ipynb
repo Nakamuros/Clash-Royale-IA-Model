{
 "cells": [
  {
   "cell_type": "code",
   "execution_count": 2,
   "id": "be42bbbc",
   "metadata": {},
   "outputs": [],
   "source": [
    "import pandas as pd\n",
    "import matplotlib.pyplot as plt"
   ]
  },
  {
   "cell_type": "code",
   "execution_count": 3,
   "id": "1d276ae0",
   "metadata": {},
   "outputs": [
    {
     "data": {
      "text/html": [
       "<div>\n",
       "<style scoped>\n",
       "    .dataframe tbody tr th:only-of-type {\n",
       "        vertical-align: middle;\n",
       "    }\n",
       "\n",
       "    .dataframe tbody tr th {\n",
       "        vertical-align: top;\n",
       "    }\n",
       "\n",
       "    .dataframe thead th {\n",
       "        text-align: right;\n",
       "    }\n",
       "</style>\n",
       "<table border=\"1\" class=\"dataframe\">\n",
       "  <thead>\n",
       "    <tr style=\"text-align: right;\">\n",
       "      <th></th>\n",
       "      <th>Unnamed: 0</th>\n",
       "      <th>TroopName</th>\n",
       "      <th>Cost</th>\n",
       "      <th>HitSpeed</th>\n",
       "      <th>FirstHitSpeed</th>\n",
       "      <th>Speed</th>\n",
       "      <th>DeployTime</th>\n",
       "      <th>Range</th>\n",
       "      <th>SplashRadius</th>\n",
       "      <th>ProjectileSpeed</th>\n",
       "      <th>Target</th>\n",
       "      <th>Count</th>\n",
       "      <th>Transport</th>\n",
       "      <th>Type</th>\n",
       "      <th>Rarity</th>\n",
       "    </tr>\n",
       "  </thead>\n",
       "  <tbody>\n",
       "    <tr>\n",
       "      <th>0</th>\n",
       "      <td>0</td>\n",
       "      <td>Archer_Queen</td>\n",
       "      <td>5.0</td>\n",
       "      <td>1.2 sec</td>\n",
       "      <td>0.3 sec</td>\n",
       "      <td>Medium (60)</td>\n",
       "      <td>1 sec</td>\n",
       "      <td>5</td>\n",
       "      <td>NaN</td>\n",
       "      <td>800.0</td>\n",
       "      <td>Air &amp; Ground</td>\n",
       "      <td>x1</td>\n",
       "      <td>Ground</td>\n",
       "      <td>Troop</td>\n",
       "      <td>Champion</td>\n",
       "    </tr>\n",
       "    <tr>\n",
       "      <th>1</th>\n",
       "      <td>1</td>\n",
       "      <td>Archers</td>\n",
       "      <td>3.0</td>\n",
       "      <td>0.9 sec</td>\n",
       "      <td>0.5 sec</td>\n",
       "      <td>Medium (60)</td>\n",
       "      <td>1 sec</td>\n",
       "      <td>5</td>\n",
       "      <td>NaN</td>\n",
       "      <td>600.0</td>\n",
       "      <td>Air &amp; Ground</td>\n",
       "      <td>x2</td>\n",
       "      <td>Ground</td>\n",
       "      <td>Troop</td>\n",
       "      <td>Common</td>\n",
       "    </tr>\n",
       "    <tr>\n",
       "      <th>2</th>\n",
       "      <td>2</td>\n",
       "      <td>Archers/Evolution</td>\n",
       "      <td>3.0</td>\n",
       "      <td>0.9 sec</td>\n",
       "      <td>0.5 sec</td>\n",
       "      <td>Medium (60)</td>\n",
       "      <td>1 sec</td>\n",
       "      <td>6</td>\n",
       "      <td>NaN</td>\n",
       "      <td>600.0</td>\n",
       "      <td>Air &amp; Ground</td>\n",
       "      <td>x2</td>\n",
       "      <td>Ground</td>\n",
       "      <td>Troop</td>\n",
       "      <td>Common</td>\n",
       "    </tr>\n",
       "    <tr>\n",
       "      <th>3</th>\n",
       "      <td>3</td>\n",
       "      <td>Baby_Dragon</td>\n",
       "      <td>4.0</td>\n",
       "      <td>1.5 sec</td>\n",
       "      <td>0.3 sec</td>\n",
       "      <td>Fast (90)</td>\n",
       "      <td>1 sec</td>\n",
       "      <td>3.5</td>\n",
       "      <td>1.5</td>\n",
       "      <td>500.0</td>\n",
       "      <td>Air &amp; Ground</td>\n",
       "      <td>x1</td>\n",
       "      <td>Air</td>\n",
       "      <td>Troop</td>\n",
       "      <td>Epic</td>\n",
       "    </tr>\n",
       "    <tr>\n",
       "      <th>4</th>\n",
       "      <td>4</td>\n",
       "      <td>Balloon</td>\n",
       "      <td>5.0</td>\n",
       "      <td>2 sec</td>\n",
       "      <td>0.2 sec</td>\n",
       "      <td>Medium (60)</td>\n",
       "      <td>1 sec</td>\n",
       "      <td>Melee: Short (0.1)</td>\n",
       "      <td>NaN</td>\n",
       "      <td>NaN</td>\n",
       "      <td>Buildings</td>\n",
       "      <td>x1</td>\n",
       "      <td>Air</td>\n",
       "      <td>Troop</td>\n",
       "      <td>Epic</td>\n",
       "    </tr>\n",
       "  </tbody>\n",
       "</table>\n",
       "</div>"
      ],
      "text/plain": [
       "   Unnamed: 0          TroopName  Cost HitSpeed FirstHitSpeed        Speed  \\\n",
       "0           0       Archer_Queen   5.0  1.2 sec       0.3 sec  Medium (60)   \n",
       "1           1            Archers   3.0  0.9 sec       0.5 sec  Medium (60)   \n",
       "2           2  Archers/Evolution   3.0  0.9 sec       0.5 sec  Medium (60)   \n",
       "3           3        Baby_Dragon   4.0  1.5 sec       0.3 sec    Fast (90)   \n",
       "4           4            Balloon   5.0    2 sec       0.2 sec  Medium (60)   \n",
       "\n",
       "  DeployTime               Range  SplashRadius  ProjectileSpeed        Target  \\\n",
       "0      1 sec                   5           NaN            800.0  Air & Ground   \n",
       "1      1 sec                   5           NaN            600.0  Air & Ground   \n",
       "2      1 sec                   6           NaN            600.0  Air & Ground   \n",
       "3      1 sec                 3.5           1.5            500.0  Air & Ground   \n",
       "4      1 sec  Melee: Short (0.1)           NaN              NaN     Buildings   \n",
       "\n",
       "  Count Transport   Type    Rarity  \n",
       "0    x1    Ground  Troop  Champion  \n",
       "1    x2    Ground  Troop    Common  \n",
       "2    x2    Ground  Troop    Common  \n",
       "3    x1       Air  Troop      Epic  \n",
       "4    x1       Air  Troop      Epic  "
      ]
     },
     "execution_count": 3,
     "metadata": {},
     "output_type": "execute_result"
    }
   ],
   "source": [
    "df = pd.read_csv('ClashRoyal.csv')\n",
    "df.head()"
   ]
  },
  {
   "cell_type": "code",
   "execution_count": 4,
   "id": "a03eb4f7",
   "metadata": {},
   "outputs": [],
   "source": [
    "indices_a_borrar = [5, 12, 13, 30, 42, 44, 49, 56, 69, 77, 83, 103, 106, 109, 114, 115, 116, 117, 118, 119, 120, 121, 122, 124, 125, 134]\n",
    "df.drop(index=indices_a_borrar, inplace=True)\n",
    "df.reset_index(drop=True, inplace=True)"
   ]
  },
  {
   "cell_type": "code",
   "execution_count": 5,
   "id": "afd1e352",
   "metadata": {},
   "outputs": [],
   "source": [
    "df.drop(columns=['SplashRadius'], inplace=True)"
   ]
  },
  {
   "cell_type": "code",
   "execution_count": 6,
   "id": "c0e8c2eb",
   "metadata": {},
   "outputs": [
    {
     "data": {
      "text/plain": [
       "Unnamed: 0          0\n",
       "TroopName           0\n",
       "Cost                3\n",
       "HitSpeed           12\n",
       "FirstHitSpeed      14\n",
       "Speed               0\n",
       "DeployTime          3\n",
       "Range               0\n",
       "ProjectileSpeed    73\n",
       "Target              0\n",
       "Count               7\n",
       "Transport           0\n",
       "Type                3\n",
       "Rarity              3\n",
       "dtype: int64"
      ]
     },
     "execution_count": 6,
     "metadata": {},
     "output_type": "execute_result"
    }
   ],
   "source": [
    "df.isna().sum()"
   ]
  },
  {
   "cell_type": "markdown",
   "id": "9173445a",
   "metadata": {},
   "source": [
    "Cost"
   ]
  },
  {
   "cell_type": "code",
   "execution_count": 7,
   "id": "9a168e56",
   "metadata": {},
   "outputs": [
    {
     "name": "stdout",
     "output_type": "stream",
     "text": [
      "Index([39, 44, 84], dtype='int64')\n"
     ]
    }
   ],
   "source": [
    "print(df[df['Cost'].isna()].index)\n"
   ]
  },
  {
   "cell_type": "code",
   "execution_count": 8,
   "id": "8c22d5b6",
   "metadata": {},
   "outputs": [],
   "source": [
    "valores_manual = pd.Series({39:3, 44: 5.0, 84:5.0})\n",
    "df.loc[valores_manual.index, 'Cost'] = valores_manual"
   ]
  },
  {
   "cell_type": "code",
   "execution_count": 9,
   "id": "14a0f9e0",
   "metadata": {},
   "outputs": [
    {
     "data": {
      "text/plain": [
       "39    3.0\n",
       "44    5.0\n",
       "84    5.0\n",
       "Name: Cost, dtype: float64"
      ]
     },
     "execution_count": 9,
     "metadata": {},
     "output_type": "execute_result"
    }
   ],
   "source": [
    "df.loc[valores_manual.index, 'Cost']"
   ]
  },
  {
   "cell_type": "code",
   "execution_count": 10,
   "id": "865174c6",
   "metadata": {},
   "outputs": [
    {
     "data": {
      "text/plain": [
       "Unnamed: 0          0\n",
       "TroopName           0\n",
       "Cost                0\n",
       "HitSpeed           12\n",
       "FirstHitSpeed      14\n",
       "Speed               0\n",
       "DeployTime          3\n",
       "Range               0\n",
       "ProjectileSpeed    73\n",
       "Target              0\n",
       "Count               7\n",
       "Transport           0\n",
       "Type                3\n",
       "Rarity              3\n",
       "dtype: int64"
      ]
     },
     "execution_count": 10,
     "metadata": {},
     "output_type": "execute_result"
    }
   ],
   "source": [
    "df.isna().sum()"
   ]
  },
  {
   "cell_type": "markdown",
   "id": "9c87f8b9",
   "metadata": {},
   "source": [
    "HitSpeed"
   ]
  },
  {
   "cell_type": "code",
   "execution_count": 11,
   "id": "2319d5d0",
   "metadata": {},
   "outputs": [
    {
     "data": {
      "text/plain": [
       "Index([11, 12, 25, 31, 48, 53, 54, 60, 93, 100, 104, 105], dtype='int64')"
      ]
     },
     "execution_count": 11,
     "metadata": {},
     "output_type": "execute_result"
    }
   ],
   "source": [
    "df[df['HitSpeed'].isna()].index"
   ]
  },
  {
   "cell_type": "code",
   "execution_count": null,
   "id": "3224b442",
   "metadata": {},
   "outputs": [],
   "source": [
    "HitSpeed_manual = pd.Series({\n",
    "    11:'1.3 sec', \n",
    "    12:'1,3 sec', \n",
    "    25:'0.0 sec',\n",
    "    31:'0.0 sec',\n",
    "    48:'0.0 sec',\n",
    "    53:'0.0 sec',\n",
    "    54:'0.0 sec',\n",
    "    60:'1.2 sec',\n",
    "    93:'1,0 sec',\n",
    "    100:'1.4 sec',\n",
    "    104:'0,0 sec',\n",
    "    105:'0,0 sec',\n",
    "    })\n",
    "df.loc[HitSpeed_manual.index, 'HitSpeed'] = HitSpeed_manual"
   ]
  },
  {
   "cell_type": "code",
   "execution_count": 16,
   "id": "a4ae7f44",
   "metadata": {},
   "outputs": [
    {
     "data": {
      "text/plain": [
       "11     0.0 sec\n",
       "12     0,0 sec\n",
       "25     0.0 sec\n",
       "31     0.0 sec\n",
       "48     0.0 sec\n",
       "53     0.0 sec\n",
       "54     0.0 sec\n",
       "60     1.2 sec\n",
       "93     1,0 sec\n",
       "100    1.4 sec\n",
       "104    0,0 sec\n",
       "105    0,0 sec\n",
       "Name: HitSpeed, dtype: object"
      ]
     },
     "execution_count": 16,
     "metadata": {},
     "output_type": "execute_result"
    }
   ],
   "source": [
    "df.loc[HitSpeed_manual.index, 'HitSpeed']"
   ]
  },
  {
   "cell_type": "code",
   "execution_count": 17,
   "id": "66acb1dc",
   "metadata": {},
   "outputs": [
    {
     "data": {
      "text/plain": [
       "Unnamed: 0          0\n",
       "TroopName           0\n",
       "Cost                0\n",
       "HitSpeed            0\n",
       "FirstHitSpeed      14\n",
       "Speed               0\n",
       "DeployTime          3\n",
       "Range               0\n",
       "ProjectileSpeed    73\n",
       "Target              0\n",
       "Count               7\n",
       "Transport           0\n",
       "Type                3\n",
       "Rarity              3\n",
       "dtype: int64"
      ]
     },
     "execution_count": 17,
     "metadata": {},
     "output_type": "execute_result"
    }
   ],
   "source": [
    "df.isna().sum()"
   ]
  },
  {
   "cell_type": "markdown",
   "id": "e55b0410",
   "metadata": {},
   "source": [
    "FirstHitSpeed"
   ]
  },
  {
   "cell_type": "code",
   "execution_count": 18,
   "id": "b7000d7a",
   "metadata": {},
   "outputs": [
    {
     "data": {
      "text/plain": [
       "Index([10, 11, 12, 25, 31, 48, 53, 54, 56, 67, 93, 100, 104, 105], dtype='int64')"
      ]
     },
     "execution_count": 18,
     "metadata": {},
     "output_type": "execute_result"
    }
   ],
   "source": [
    "df[df['FirstHitSpeed'].isna()].index"
   ]
  },
  {
   "cell_type": "code",
   "execution_count": null,
   "id": "5824472f",
   "metadata": {},
   "outputs": [],
   "source": [
    "FirstHitSpeed_manual = pd.Series({\n",
    "    10:'0.3 sec',\n",
    "    11:'0.0 sec', \n",
    "    12:'0,0 sec', \n",
    "    25:'0.0 sec',\n",
    "    31:'0.0 sec',\n",
    "    48:'0.0 sec',\n",
    "    53:'0.0 sec',\n",
    "    54:'0.0 sec',\n",
    "    56:\n",
    "    67:'1.2 sec',\n",
    "    93:'1,0 sec',\n",
    "    100:'1.4 sec',\n",
    "    104:'0,0 sec',\n",
    "    105:'0,0 sec',\n",
    "    })\n",
    "df.loc[FirstHitSpeed_manual.index, 'HitSpeed'] = FirstHitSpeed_manual"
   ]
  },
  {
   "cell_type": "code",
   "execution_count": 14,
   "id": "94916239",
   "metadata": {},
   "outputs": [],
   "source": [
    "df.to_csv('Intento 3.csv', index=False)"
   ]
  }
 ],
 "metadata": {
  "kernelspec": {
   "display_name": "Python 3",
   "language": "python",
   "name": "python3"
  },
  "language_info": {
   "codemirror_mode": {
    "name": "ipython",
    "version": 3
   },
   "file_extension": ".py",
   "mimetype": "text/x-python",
   "name": "python",
   "nbconvert_exporter": "python",
   "pygments_lexer": "ipython3",
   "version": "3.10.11"
  }
 },
 "nbformat": 4,
 "nbformat_minor": 5
}
