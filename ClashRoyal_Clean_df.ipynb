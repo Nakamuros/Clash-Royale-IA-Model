{
 "cells": [
  {
   "cell_type": "code",
   "execution_count": 38,
   "id": "be42bbbc",
   "metadata": {},
   "outputs": [],
   "source": [
    "import pandas as pd\n",
    "import matplotlib.pyplot as plt"
   ]
  },
  {
   "cell_type": "code",
   "execution_count": 39,
   "id": "1d276ae0",
   "metadata": {},
   "outputs": [
    {
     "data": {
      "text/html": [
       "<div>\n",
       "<style scoped>\n",
       "    .dataframe tbody tr th:only-of-type {\n",
       "        vertical-align: middle;\n",
       "    }\n",
       "\n",
       "    .dataframe tbody tr th {\n",
       "        vertical-align: top;\n",
       "    }\n",
       "\n",
       "    .dataframe thead th {\n",
       "        text-align: right;\n",
       "    }\n",
       "</style>\n",
       "<table border=\"1\" class=\"dataframe\">\n",
       "  <thead>\n",
       "    <tr style=\"text-align: right;\">\n",
       "      <th></th>\n",
       "      <th>Unnamed: 0</th>\n",
       "      <th>TroopName</th>\n",
       "      <th>Cost</th>\n",
       "      <th>HitSpeed</th>\n",
       "      <th>FirstHitSpeed</th>\n",
       "      <th>Speed</th>\n",
       "      <th>DeployTime</th>\n",
       "      <th>Range</th>\n",
       "      <th>SplashRadius</th>\n",
       "      <th>ProjectileSpeed</th>\n",
       "      <th>Target</th>\n",
       "      <th>Count</th>\n",
       "      <th>Transport</th>\n",
       "      <th>Type</th>\n",
       "      <th>Rarity</th>\n",
       "    </tr>\n",
       "  </thead>\n",
       "  <tbody>\n",
       "    <tr>\n",
       "      <th>0</th>\n",
       "      <td>0</td>\n",
       "      <td>Archer_Queen</td>\n",
       "      <td>5.0</td>\n",
       "      <td>1.2 sec</td>\n",
       "      <td>0.3 sec</td>\n",
       "      <td>Medium (60)</td>\n",
       "      <td>1 sec</td>\n",
       "      <td>5</td>\n",
       "      <td>NaN</td>\n",
       "      <td>800.0</td>\n",
       "      <td>Air &amp; Ground</td>\n",
       "      <td>x1</td>\n",
       "      <td>Ground</td>\n",
       "      <td>Troop</td>\n",
       "      <td>Champion</td>\n",
       "    </tr>\n",
       "    <tr>\n",
       "      <th>1</th>\n",
       "      <td>1</td>\n",
       "      <td>Archers</td>\n",
       "      <td>3.0</td>\n",
       "      <td>0.9 sec</td>\n",
       "      <td>0.5 sec</td>\n",
       "      <td>Medium (60)</td>\n",
       "      <td>1 sec</td>\n",
       "      <td>5</td>\n",
       "      <td>NaN</td>\n",
       "      <td>600.0</td>\n",
       "      <td>Air &amp; Ground</td>\n",
       "      <td>x2</td>\n",
       "      <td>Ground</td>\n",
       "      <td>Troop</td>\n",
       "      <td>Common</td>\n",
       "    </tr>\n",
       "    <tr>\n",
       "      <th>2</th>\n",
       "      <td>2</td>\n",
       "      <td>Archers/Evolution</td>\n",
       "      <td>3.0</td>\n",
       "      <td>0.9 sec</td>\n",
       "      <td>0.5 sec</td>\n",
       "      <td>Medium (60)</td>\n",
       "      <td>1 sec</td>\n",
       "      <td>6</td>\n",
       "      <td>NaN</td>\n",
       "      <td>600.0</td>\n",
       "      <td>Air &amp; Ground</td>\n",
       "      <td>x2</td>\n",
       "      <td>Ground</td>\n",
       "      <td>Troop</td>\n",
       "      <td>Common</td>\n",
       "    </tr>\n",
       "    <tr>\n",
       "      <th>3</th>\n",
       "      <td>3</td>\n",
       "      <td>Baby_Dragon</td>\n",
       "      <td>4.0</td>\n",
       "      <td>1.5 sec</td>\n",
       "      <td>0.3 sec</td>\n",
       "      <td>Fast (90)</td>\n",
       "      <td>1 sec</td>\n",
       "      <td>3.5</td>\n",
       "      <td>1.5</td>\n",
       "      <td>500.0</td>\n",
       "      <td>Air &amp; Ground</td>\n",
       "      <td>x1</td>\n",
       "      <td>Air</td>\n",
       "      <td>Troop</td>\n",
       "      <td>Epic</td>\n",
       "    </tr>\n",
       "    <tr>\n",
       "      <th>4</th>\n",
       "      <td>4</td>\n",
       "      <td>Balloon</td>\n",
       "      <td>5.0</td>\n",
       "      <td>2 sec</td>\n",
       "      <td>0.2 sec</td>\n",
       "      <td>Medium (60)</td>\n",
       "      <td>1 sec</td>\n",
       "      <td>Melee: Short (0.1)</td>\n",
       "      <td>NaN</td>\n",
       "      <td>NaN</td>\n",
       "      <td>Buildings</td>\n",
       "      <td>x1</td>\n",
       "      <td>Air</td>\n",
       "      <td>Troop</td>\n",
       "      <td>Epic</td>\n",
       "    </tr>\n",
       "  </tbody>\n",
       "</table>\n",
       "</div>"
      ],
      "text/plain": [
       "   Unnamed: 0          TroopName  Cost HitSpeed FirstHitSpeed        Speed  \\\n",
       "0           0       Archer_Queen   5.0  1.2 sec       0.3 sec  Medium (60)   \n",
       "1           1            Archers   3.0  0.9 sec       0.5 sec  Medium (60)   \n",
       "2           2  Archers/Evolution   3.0  0.9 sec       0.5 sec  Medium (60)   \n",
       "3           3        Baby_Dragon   4.0  1.5 sec       0.3 sec    Fast (90)   \n",
       "4           4            Balloon   5.0    2 sec       0.2 sec  Medium (60)   \n",
       "\n",
       "  DeployTime               Range  SplashRadius  ProjectileSpeed        Target  \\\n",
       "0      1 sec                   5           NaN            800.0  Air & Ground   \n",
       "1      1 sec                   5           NaN            600.0  Air & Ground   \n",
       "2      1 sec                   6           NaN            600.0  Air & Ground   \n",
       "3      1 sec                 3.5           1.5            500.0  Air & Ground   \n",
       "4      1 sec  Melee: Short (0.1)           NaN              NaN     Buildings   \n",
       "\n",
       "  Count Transport   Type    Rarity  \n",
       "0    x1    Ground  Troop  Champion  \n",
       "1    x2    Ground  Troop    Common  \n",
       "2    x2    Ground  Troop    Common  \n",
       "3    x1       Air  Troop      Epic  \n",
       "4    x1       Air  Troop      Epic  "
      ]
     },
     "execution_count": 39,
     "metadata": {},
     "output_type": "execute_result"
    }
   ],
   "source": [
    "df = pd.read_csv('ClashRoyal.csv')\n",
    "df.head()"
   ]
  },
  {
   "cell_type": "code",
   "execution_count": 40,
   "id": "a03eb4f7",
   "metadata": {},
   "outputs": [],
   "source": [
    "indices_a_borrar = [5, 12, 13, 30, 42, 44, 49, 56, 69, 77, 83, 103, 106, 109, 114, 115, 116, 117, 118, 119, 120, 121, 122, 124, 125, 134]\n",
    "df.drop(index=indices_a_borrar, inplace=True)\n",
    "df.reset_index(drop=True, inplace=True)"
   ]
  },
  {
   "cell_type": "code",
   "execution_count": 41,
   "id": "afd1e352",
   "metadata": {},
   "outputs": [],
   "source": [
    "df.drop(columns=['SplashRadius'], inplace=True)"
   ]
  },
  {
   "cell_type": "code",
   "execution_count": 42,
   "id": "c0e8c2eb",
   "metadata": {},
   "outputs": [
    {
     "data": {
      "text/plain": [
       "Unnamed: 0          0\n",
       "TroopName           0\n",
       "Cost                3\n",
       "HitSpeed           12\n",
       "FirstHitSpeed      14\n",
       "Speed               0\n",
       "DeployTime          3\n",
       "Range               0\n",
       "ProjectileSpeed    73\n",
       "Target              0\n",
       "Count               7\n",
       "Transport           0\n",
       "Type                3\n",
       "Rarity              3\n",
       "dtype: int64"
      ]
     },
     "execution_count": 42,
     "metadata": {},
     "output_type": "execute_result"
    }
   ],
   "source": [
    "df.isna().sum()"
   ]
  },
  {
   "cell_type": "markdown",
   "id": "9173445a",
   "metadata": {},
   "source": [
    "Cost"
   ]
  },
  {
   "cell_type": "code",
   "execution_count": 43,
   "id": "9a168e56",
   "metadata": {},
   "outputs": [
    {
     "name": "stdout",
     "output_type": "stream",
     "text": [
      "Index([39, 44, 84], dtype='int64')\n"
     ]
    }
   ],
   "source": [
    "print(df[df['Cost'].isna()].index)\n"
   ]
  },
  {
   "cell_type": "code",
   "execution_count": 44,
   "id": "8c22d5b6",
   "metadata": {},
   "outputs": [],
   "source": [
    "valores_manual = pd.Series({39:3, 44: 5.0, 84:5.0})\n",
    "df.loc[valores_manual.index, 'Cost'] = valores_manual"
   ]
  },
  {
   "cell_type": "code",
   "execution_count": 45,
   "id": "14a0f9e0",
   "metadata": {},
   "outputs": [
    {
     "data": {
      "text/plain": [
       "39    3.0\n",
       "44    5.0\n",
       "84    5.0\n",
       "Name: Cost, dtype: float64"
      ]
     },
     "execution_count": 45,
     "metadata": {},
     "output_type": "execute_result"
    }
   ],
   "source": [
    "df.loc[valores_manual.index, 'Cost']"
   ]
  },
  {
   "cell_type": "code",
   "execution_count": 46,
   "id": "865174c6",
   "metadata": {},
   "outputs": [
    {
     "data": {
      "text/plain": [
       "Unnamed: 0          0\n",
       "TroopName           0\n",
       "Cost                0\n",
       "HitSpeed           12\n",
       "FirstHitSpeed      14\n",
       "Speed               0\n",
       "DeployTime          3\n",
       "Range               0\n",
       "ProjectileSpeed    73\n",
       "Target              0\n",
       "Count               7\n",
       "Transport           0\n",
       "Type                3\n",
       "Rarity              3\n",
       "dtype: int64"
      ]
     },
     "execution_count": 46,
     "metadata": {},
     "output_type": "execute_result"
    }
   ],
   "source": [
    "df.isna().sum()"
   ]
  },
  {
   "cell_type": "markdown",
   "id": "9c87f8b9",
   "metadata": {},
   "source": [
    "HitSpeed"
   ]
  },
  {
   "cell_type": "code",
   "execution_count": 47,
   "id": "2319d5d0",
   "metadata": {},
   "outputs": [
    {
     "data": {
      "text/plain": [
       "Index([11, 12, 25, 31, 48, 53, 54, 60, 93, 100, 104, 105], dtype='int64')"
      ]
     },
     "execution_count": 47,
     "metadata": {},
     "output_type": "execute_result"
    }
   ],
   "source": [
    "df[df['HitSpeed'].isna()].index"
   ]
  },
  {
   "cell_type": "code",
   "execution_count": 48,
   "id": "3224b442",
   "metadata": {},
   "outputs": [],
   "source": [
    "HitSpeed_manual = pd.Series({\n",
    "    11:'1.3 sec', \n",
    "    12:'1,3 sec', \n",
    "    25:'0.2 sec',\n",
    "    31:'0.2 sec',\n",
    "    48:'0.2 sec',\n",
    "    53:'0.2 sec',\n",
    "    54:'0.2 sec',\n",
    "    60:'1.2 sec',\n",
    "    93:'1,0 sec',\n",
    "    100:'1.4 sec',\n",
    "    104:'0,0 sec',\n",
    "    105:'0,0 sec',\n",
    "    })\n",
    "df.loc[HitSpeed_manual.index, 'HitSpeed'] = HitSpeed_manual"
   ]
  },
  {
   "cell_type": "code",
   "execution_count": 49,
   "id": "a4ae7f44",
   "metadata": {},
   "outputs": [
    {
     "data": {
      "text/plain": [
       "11     1.3 sec\n",
       "12     1,3 sec\n",
       "25     0.2 sec\n",
       "31     0.2 sec\n",
       "48     0.2 sec\n",
       "53     0.2 sec\n",
       "54     0.2 sec\n",
       "60     1.2 sec\n",
       "93     1,0 sec\n",
       "100    1.4 sec\n",
       "104    0,0 sec\n",
       "105    0,0 sec\n",
       "Name: HitSpeed, dtype: object"
      ]
     },
     "execution_count": 49,
     "metadata": {},
     "output_type": "execute_result"
    }
   ],
   "source": [
    "df.loc[HitSpeed_manual.index, 'HitSpeed']"
   ]
  },
  {
   "cell_type": "code",
   "execution_count": 50,
   "id": "66acb1dc",
   "metadata": {},
   "outputs": [
    {
     "data": {
      "text/plain": [
       "Unnamed: 0          0\n",
       "TroopName           0\n",
       "Cost                0\n",
       "HitSpeed            0\n",
       "FirstHitSpeed      14\n",
       "Speed               0\n",
       "DeployTime          3\n",
       "Range               0\n",
       "ProjectileSpeed    73\n",
       "Target              0\n",
       "Count               7\n",
       "Transport           0\n",
       "Type                3\n",
       "Rarity              3\n",
       "dtype: int64"
      ]
     },
     "execution_count": 50,
     "metadata": {},
     "output_type": "execute_result"
    }
   ],
   "source": [
    "df.isna().sum()"
   ]
  },
  {
   "cell_type": "markdown",
   "id": "e55b0410",
   "metadata": {},
   "source": [
    "FirstHitSpeed"
   ]
  },
  {
   "cell_type": "code",
   "execution_count": 51,
   "id": "b7000d7a",
   "metadata": {},
   "outputs": [
    {
     "data": {
      "text/plain": [
       "Index([10, 11, 12, 25, 31, 48, 53, 54, 56, 67, 93, 100, 104, 105], dtype='int64')"
      ]
     },
     "execution_count": 51,
     "metadata": {},
     "output_type": "execute_result"
    }
   ],
   "source": [
    "df[df['FirstHitSpeed'].isna()].index"
   ]
  },
  {
   "cell_type": "code",
   "execution_count": 52,
   "id": "5824472f",
   "metadata": {},
   "outputs": [],
   "source": [
    "FirstHitSpeed_manual = pd.Series({\n",
    "    10:'1.5 sec',\n",
    "    11:'0.35 sec', \n",
    "    12:'0,35 sec', \n",
    "    25:'0.2 sec',\n",
    "    31:'0.2 sec',\n",
    "    48:'0.2 sec',\n",
    "    53:'0.2 sec',\n",
    "    54:'0.2 sec',\n",
    "    56:'0.4 sec',\n",
    "    67:'0.0 sec',\n",
    "    93:'1,0 sec',\n",
    "    100:'1.4 sec',\n",
    "    104:'0,0 sec',\n",
    "    105:'0,0 sec',\n",
    "    })\n",
    "df.loc[FirstHitSpeed_manual.index, 'FirstHitSpeed'] = FirstHitSpeed_manual"
   ]
  },
  {
   "cell_type": "code",
   "execution_count": 53,
   "id": "92711531",
   "metadata": {},
   "outputs": [
    {
     "data": {
      "text/plain": [
       "10      1.5 sec\n",
       "11     0.35 sec\n",
       "12     0,35 sec\n",
       "25      0.2 sec\n",
       "31      0.2 sec\n",
       "48      0.2 sec\n",
       "53      0.2 sec\n",
       "54      0.2 sec\n",
       "56      0.4 sec\n",
       "67      0.0 sec\n",
       "93      1,0 sec\n",
       "100     1.4 sec\n",
       "104     0,0 sec\n",
       "105     0,0 sec\n",
       "Name: FirstHitSpeed, dtype: object"
      ]
     },
     "execution_count": 53,
     "metadata": {},
     "output_type": "execute_result"
    }
   ],
   "source": [
    "df.loc[FirstHitSpeed_manual.index, 'FirstHitSpeed']"
   ]
  },
  {
   "cell_type": "code",
   "execution_count": 54,
   "id": "29bf3ec3",
   "metadata": {},
   "outputs": [
    {
     "data": {
      "text/plain": [
       "Unnamed: 0          0\n",
       "TroopName           0\n",
       "Cost                0\n",
       "HitSpeed            0\n",
       "FirstHitSpeed       0\n",
       "Speed               0\n",
       "DeployTime          3\n",
       "Range               0\n",
       "ProjectileSpeed    73\n",
       "Target              0\n",
       "Count               7\n",
       "Transport           0\n",
       "Type                3\n",
       "Rarity              3\n",
       "dtype: int64"
      ]
     },
     "execution_count": 54,
     "metadata": {},
     "output_type": "execute_result"
    }
   ],
   "source": [
    "df.isna().sum()"
   ]
  },
  {
   "cell_type": "markdown",
   "id": "951eb312",
   "metadata": {},
   "source": [
    "DeployTime"
   ]
  },
  {
   "cell_type": "code",
   "execution_count": 55,
   "id": "dba60f52",
   "metadata": {},
   "outputs": [
    {
     "data": {
      "text/plain": [
       "Index([39, 44, 84], dtype='int64')"
      ]
     },
     "execution_count": 55,
     "metadata": {},
     "output_type": "execute_result"
    }
   ],
   "source": [
    "df[df['DeployTime'].isna()].index"
   ]
  },
  {
   "cell_type": "code",
   "execution_count": 56,
   "id": "5fcae008",
   "metadata": {},
   "outputs": [],
   "source": [
    "DeployTime_manual = pd.Series({\n",
    "    39:'1.0 sec',\n",
    "    44:'1.0 sec', \n",
    "    84:'1.0 sec', \n",
    "    })\n",
    "df.loc[DeployTime_manual.index, 'DeployTime'] = DeployTime_manual"
   ]
  },
  {
   "cell_type": "code",
   "execution_count": 57,
   "id": "d9c530bf",
   "metadata": {},
   "outputs": [
    {
     "data": {
      "text/plain": [
       "39    1.0 sec\n",
       "44    1.0 sec\n",
       "84    1.0 sec\n",
       "Name: DeployTime, dtype: object"
      ]
     },
     "execution_count": 57,
     "metadata": {},
     "output_type": "execute_result"
    }
   ],
   "source": [
    "df.loc[DeployTime_manual.index, 'DeployTime']"
   ]
  },
  {
   "cell_type": "code",
   "execution_count": 58,
   "id": "7e63bb96",
   "metadata": {},
   "outputs": [
    {
     "data": {
      "text/plain": [
       "Unnamed: 0          0\n",
       "TroopName           0\n",
       "Cost                0\n",
       "HitSpeed            0\n",
       "FirstHitSpeed       0\n",
       "Speed               0\n",
       "DeployTime          0\n",
       "Range               0\n",
       "ProjectileSpeed    73\n",
       "Target              0\n",
       "Count               7\n",
       "Transport           0\n",
       "Type                3\n",
       "Rarity              3\n",
       "dtype: int64"
      ]
     },
     "execution_count": 58,
     "metadata": {},
     "output_type": "execute_result"
    }
   ],
   "source": [
    "df.isna().sum()"
   ]
  },
  {
   "cell_type": "markdown",
   "id": "aef95ad9",
   "metadata": {},
   "source": [
    "ProjectileSpeed"
   ]
  },
  {
   "cell_type": "code",
   "execution_count": 59,
   "id": "088b9213",
   "metadata": {},
   "outputs": [
    {
     "data": {
      "text/plain": [
       "Index([  4,   5,   6,   7,   8,   9,  10,  11,  12,  13,  16,  19,  22,  23,\n",
       "        24,  25,  26,  27,  28,  31,  34,  36,  37,  38,  39,  40,  41,  42,\n",
       "        43,  44,  45,  46,  47,  48,  49,  52,  53,  54,  56,  57,  58,  61,\n",
       "        62,  64,  65,  67,  68,  69,  72,  76,  77,  78,  79,  80,  82,  83,\n",
       "        84,  85,  88,  89,  90,  91,  92,  93,  95,  96,  97, 100, 102, 103,\n",
       "       104, 105, 110],\n",
       "      dtype='int64')"
      ]
     },
     "execution_count": 59,
     "metadata": {},
     "output_type": "execute_result"
    }
   ],
   "source": [
    "df[df['ProjectileSpeed'].isna()].index"
   ]
  },
  {
   "cell_type": "code",
   "execution_count": 60,
   "id": "eedb091d",
   "metadata": {},
   "outputs": [],
   "source": [
    "ProjectileSpeed_manual = pd.Series({\n",
    "    39:500,\n",
    "    40:500, \n",
    "    83:600, \n",
    "    84:800\n",
    "    })\n",
    "df.loc[ProjectileSpeed_manual.index, 'ProjectileSpeed'] = ProjectileSpeed_manual"
   ]
  },
  {
   "cell_type": "code",
   "execution_count": 61,
   "id": "b450559b",
   "metadata": {},
   "outputs": [
    {
     "name": "stderr",
     "output_type": "stream",
     "text": [
      "C:\\Users\\agabr\\AppData\\Local\\Temp\\ipykernel_17928\\1631792000.py:1: FutureWarning: A value is trying to be set on a copy of a DataFrame or Series through chained assignment using an inplace method.\n",
      "The behavior will change in pandas 3.0. This inplace method will never work because the intermediate object on which we are setting values always behaves as a copy.\n",
      "\n",
      "For example, when doing 'df[col].method(value, inplace=True)', try using 'df.method({col: value}, inplace=True)' or df[col] = df[col].method(value) instead, to perform the operation inplace on the original object.\n",
      "\n",
      "\n",
      "  df['ProjectileSpeed'].fillna(0, inplace=True)\n"
     ]
    }
   ],
   "source": [
    "df['ProjectileSpeed'].fillna(0, inplace=True)"
   ]
  },
  {
   "cell_type": "code",
   "execution_count": 62,
   "id": "57eb1b11",
   "metadata": {},
   "outputs": [
    {
     "data": {
      "text/plain": [
       "Unnamed: 0         0\n",
       "TroopName          0\n",
       "Cost               0\n",
       "HitSpeed           0\n",
       "FirstHitSpeed      0\n",
       "Speed              0\n",
       "DeployTime         0\n",
       "Range              0\n",
       "ProjectileSpeed    0\n",
       "Target             0\n",
       "Count              7\n",
       "Transport          0\n",
       "Type               3\n",
       "Rarity             3\n",
       "dtype: int64"
      ]
     },
     "execution_count": 62,
     "metadata": {},
     "output_type": "execute_result"
    }
   ],
   "source": [
    "df.isna().sum()"
   ]
  },
  {
   "cell_type": "code",
   "execution_count": 63,
   "id": "78a41f31",
   "metadata": {},
   "outputs": [],
   "source": [
    "indices_a_borrar = [82]\n",
    "df.drop(index=indices_a_borrar, inplace=True)\n",
    "df.reset_index(drop=True, inplace=True)"
   ]
  },
  {
   "cell_type": "markdown",
   "id": "19ff2097",
   "metadata": {},
   "source": [
    "Count"
   ]
  },
  {
   "cell_type": "code",
   "execution_count": 64,
   "id": "dbaac8ce",
   "metadata": {},
   "outputs": [
    {
     "data": {
      "text/plain": [
       "Index([26, 48, 53, 54, 61, 62, 92], dtype='int64')"
      ]
     },
     "execution_count": 64,
     "metadata": {},
     "output_type": "execute_result"
    }
   ],
   "source": [
    "df[df['Count'].isna()].index"
   ]
  },
  {
   "cell_type": "code",
   "execution_count": 65,
   "id": "495b6aa2",
   "metadata": {},
   "outputs": [],
   "source": [
    "Count_manual = pd.Series({\n",
    "    17: 'x1',\n",
    "    26: 'x1',\n",
    "    34: 'x1',\n",
    "    48: 'x1',\n",
    "    53: 'x1',\n",
    "    54: 'x1',\n",
    "    61: 'x1',\n",
    "    62: 'x1',\n",
    "    92: 'x7'\n",
    "    })\n",
    "df.loc[Count_manual.index, 'Count'] = Count_manual"
   ]
  },
  {
   "cell_type": "code",
   "execution_count": 66,
   "id": "83168ade",
   "metadata": {},
   "outputs": [
    {
     "data": {
      "text/plain": [
       "Unnamed: 0         0\n",
       "TroopName          0\n",
       "Cost               0\n",
       "HitSpeed           0\n",
       "FirstHitSpeed      0\n",
       "Speed              0\n",
       "DeployTime         0\n",
       "Range              0\n",
       "ProjectileSpeed    0\n",
       "Target             0\n",
       "Count              0\n",
       "Transport          0\n",
       "Type               3\n",
       "Rarity             3\n",
       "dtype: int64"
      ]
     },
     "execution_count": 66,
     "metadata": {},
     "output_type": "execute_result"
    }
   ],
   "source": [
    "df.isna().sum()"
   ]
  },
  {
   "cell_type": "markdown",
   "id": "cac9320e",
   "metadata": {},
   "source": [
    "Type"
   ]
  },
  {
   "cell_type": "code",
   "execution_count": 67,
   "id": "72fc983e",
   "metadata": {},
   "outputs": [
    {
     "data": {
      "text/plain": [
       "Index([39, 44, 83], dtype='int64')"
      ]
     },
     "execution_count": 67,
     "metadata": {},
     "output_type": "execute_result"
    }
   ],
   "source": [
    "df[df['Type'].isna()].index"
   ]
  },
  {
   "cell_type": "code",
   "execution_count": 68,
   "id": "be97aa0b",
   "metadata": {},
   "outputs": [
    {
     "name": "stderr",
     "output_type": "stream",
     "text": [
      "C:\\Users\\agabr\\AppData\\Local\\Temp\\ipykernel_17928\\490716706.py:1: FutureWarning: A value is trying to be set on a copy of a DataFrame or Series through chained assignment using an inplace method.\n",
      "The behavior will change in pandas 3.0. This inplace method will never work because the intermediate object on which we are setting values always behaves as a copy.\n",
      "\n",
      "For example, when doing 'df[col].method(value, inplace=True)', try using 'df.method({col: value}, inplace=True)' or df[col] = df[col].method(value) instead, to perform the operation inplace on the original object.\n",
      "\n",
      "\n",
      "  df['Type'].fillna('Troop', inplace=True)\n"
     ]
    }
   ],
   "source": [
    "df['Type'].fillna('Troop', inplace=True)"
   ]
  },
  {
   "cell_type": "code",
   "execution_count": 69,
   "id": "2b2532dc",
   "metadata": {},
   "outputs": [
    {
     "data": {
      "text/plain": [
       "Unnamed: 0         0\n",
       "TroopName          0\n",
       "Cost               0\n",
       "HitSpeed           0\n",
       "FirstHitSpeed      0\n",
       "Speed              0\n",
       "DeployTime         0\n",
       "Range              0\n",
       "ProjectileSpeed    0\n",
       "Target             0\n",
       "Count              0\n",
       "Transport          0\n",
       "Type               0\n",
       "Rarity             3\n",
       "dtype: int64"
      ]
     },
     "execution_count": 69,
     "metadata": {},
     "output_type": "execute_result"
    }
   ],
   "source": [
    "df.isna().sum()"
   ]
  },
  {
   "cell_type": "markdown",
   "id": "c452d6c6",
   "metadata": {},
   "source": [
    "Rarity"
   ]
  },
  {
   "cell_type": "code",
   "execution_count": 70,
   "id": "b8053a38",
   "metadata": {},
   "outputs": [
    {
     "data": {
      "text/plain": [
       "Index([39, 44, 83], dtype='int64')"
      ]
     },
     "execution_count": 70,
     "metadata": {},
     "output_type": "execute_result"
    }
   ],
   "source": [
    "df[df['Rarity'].isna()].index"
   ]
  },
  {
   "cell_type": "code",
   "execution_count": 71,
   "id": "4d90f1ea",
   "metadata": {},
   "outputs": [],
   "source": [
    "Rarity_manual = pd.Series({\n",
    "    39:'Common',\n",
    "    44:'Champion',\n",
    "    83:'Common'\n",
    "    })\n",
    "df.loc[Rarity_manual.index, 'Rarity'] = Rarity_manual"
   ]
  },
  {
   "cell_type": "code",
   "execution_count": 72,
   "id": "f937322e",
   "metadata": {},
   "outputs": [
    {
     "data": {
      "text/plain": [
       "Unnamed: 0         0\n",
       "TroopName          0\n",
       "Cost               0\n",
       "HitSpeed           0\n",
       "FirstHitSpeed      0\n",
       "Speed              0\n",
       "DeployTime         0\n",
       "Range              0\n",
       "ProjectileSpeed    0\n",
       "Target             0\n",
       "Count              0\n",
       "Transport          0\n",
       "Type               0\n",
       "Rarity             0\n",
       "dtype: int64"
      ]
     },
     "execution_count": 72,
     "metadata": {},
     "output_type": "execute_result"
    }
   ],
   "source": [
    "df.isna().sum()"
   ]
  },
  {
   "cell_type": "code",
   "execution_count": 73,
   "id": "94916239",
   "metadata": {},
   "outputs": [],
   "source": [
    "df.to_csv('ClashRoyal_limpio.csv', index=False)"
   ]
  }
 ],
 "metadata": {
  "kernelspec": {
   "display_name": "Python 3",
   "language": "python",
   "name": "python3"
  },
  "language_info": {
   "codemirror_mode": {
    "name": "ipython",
    "version": 3
   },
   "file_extension": ".py",
   "mimetype": "text/x-python",
   "name": "python",
   "nbconvert_exporter": "python",
   "pygments_lexer": "ipython3",
   "version": "3.10.11"
  }
 },
 "nbformat": 4,
 "nbformat_minor": 5
}
